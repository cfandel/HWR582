{
 "cells": [
  {
   "cell_type": "markdown",
   "metadata": {},
   "source": [
    "**DISCRIMINATORY INDEX COMPARISONS ACROSS STAKEHOLDER GROUPS**\n",
    "<br>DI maps. \n",
    "<br>Files needed:\n",
    "1. other_headmean_ss_ytna\n",
    "2. moc_headmean_ss_ytna\n",
    "3. other_headvar_ss_ytna\n",
    "4. moc_headvar_ss_ytna\n",
    "5. design\n",
    "\n",
    "File structure:\n",
    "<br> Run analyze_ensemble for each stakeholder and each stage of analysis, then save files needed for plots with appropriate filename, in a common folder"
   ]
  },
  {
   "cell_type": "code",
   "execution_count": 1,
   "metadata": {},
   "outputs": [],
   "source": [
    "#Import packages:\n",
    "import numpy as np\n",
    "import matplotlib.pyplot as plt\n",
    "from matplotlib import cm\n",
    "from mpl_toolkits.axes_grid1 import make_axes_locatable\n",
    "import matplotlib.patches as patches\n",
    "import os\n",
    "import sys\n",
    "import pickle"
   ]
  },
  {
   "cell_type": "markdown",
   "metadata": {},
   "source": [
    "**MODIFY SETTINGS HERE:**"
   ]
  },
  {
   "cell_type": "code",
   "execution_count": 2,
   "metadata": {},
   "outputs": [],
   "source": [
    "#Identify file directory?\n",
    "path = r'C:\\Users\\Chloe\\Documents\\Python\\MODFLOW class\\BASE\\output\\paper\\likelihood'\n",
    "\n",
    "#Identify stakeholders & stages to plot?\n",
    "desired_stakeholders = ['ag','env','town']                      #choose from ag, env, or town\n",
    "desired_stages = ['random','reseed','combine','afterdata']      #choose from random, reseed, combine, or afterdata"
   ]
  },
  {
   "cell_type": "markdown",
   "metadata": {},
   "source": [
    "**IMPORT**"
   ]
  },
  {
   "cell_type": "code",
   "execution_count": 3,
   "metadata": {},
   "outputs": [],
   "source": [
    "#Design info:\n",
    "\n",
    "#design = \n",
    "#          [0: nrow        8: crop             15: K_horiz              22: str_rows\n",
    "#           1: ncol        9: fNWc             16: Kzratio_low          23: str_cols]\n",
    "#           2: delr       10: well1            17: Sy\n",
    "#           3: delc       11: well2            18: R1\n",
    "#           4: Lx         12: recharge_ratio   19: ET1\n",
    "#           5: Ly         13: return_loc       20: ETratio_riparian\n",
    "#           6: nlay       14: rNWc             21: Kratio_stream\n",
    "#           7: ztop \n"
   ]
  },
  {
   "cell_type": "code",
   "execution_count": 4,
   "metadata": {},
   "outputs": [
    {
     "name": "stdout",
     "output_type": "stream",
     "text": [
      "Available ensembles: \n",
      " ['ag_random', 'ag_reseed', 'env_random', 'env_reseed'] \n",
      "\n",
      "Ensembles to plot: \n",
      " ['ag_random', 'ag_reseed', 'env_random', 'env_reseed']\n"
     ]
    }
   ],
   "source": [
    "#Import model outputs from different stakeholders:\n",
    "\n",
    "os.chdir(path)           #change to correct directory\n",
    "\n",
    "#List all stakeholders, stages, and files:\n",
    "stakeholders = ['ag','town','env']\n",
    "stages = ['random','reseed','combine','afterdata']\n",
    "files = ['other_headmean_ss_ytna','moc_headmean_ss_ytna','other_headvar_ss_ytna','moc_headvar_ss_ytna','design']\n",
    "\n",
    "#Define a function to load model info from different stakeholders:\n",
    "def load_info(stakeholder, stage):\n",
    "    ensemble = stakeholder + '_' + stage\n",
    "    return [np.load(ensemble + '_other_headmean_ss_ytna.npy'),np.load(ensemble + '_moc_headmean_ss_ytna.npy'),\n",
    "            np.load(ensemble + '_other_headvar_ss_ytna.npy'),np.load(ensemble + '_moc_headvar_ss_ytna.npy')]\n",
    "\n",
    "#Identify which files are actually available:\n",
    "#initialize empty lists:\n",
    "available_stakeholders = []\n",
    "available_stages = []\n",
    "available_ensembles = []\n",
    "available_files = []\n",
    "not_available = []\n",
    "for stakeholder in stakeholders:\n",
    "    for stage in stages:\n",
    "        for file in files:\n",
    "            ensemble = stakeholder + '_' + stage\n",
    "            filename = ensemble + '_' + file + '.npy'\n",
    "            pathtest = path + '\\\\' + filename           \n",
    "            if os.path.exists(pathtest) == True:\n",
    "                available_files.append(filename)\n",
    "                if stakeholder not in available_stakeholders:\n",
    "                    available_stakeholders.append(stakeholder)\n",
    "                if stage not in available_stages:\n",
    "                    available_stages.append(stage)\n",
    "                if ensemble not in available_ensembles:\n",
    "                    available_ensembles.append(ensemble)   \n",
    "            else:\n",
    "                not_available.append(filename)            \n",
    "print('Available ensembles:','\\n', available_ensembles, '\\n')\n",
    "\n",
    "#Create list of ensembles to plot from intersection of available and desired ensembles:\n",
    "plot_stakeholders = list(set(desired_stakeholders) & set(available_stakeholders))\n",
    "plot_stages = list(set(desired_stages) & set(available_stages))\n",
    "plot_ensembles = []\n",
    "for stakeholder in plot_stakeholders:\n",
    "    for stage in plot_stages:\n",
    "        ensemble = stakeholder + '_' + stage\n",
    "        if ensemble in available_ensembles:\n",
    "            plot_ensembles.append(ensemble)\n",
    "print('Ensembles to plot:', '\\n', plot_ensembles) \n",
    "\n",
    "#Import files to dictionaries:\n",
    "#initialize empty dictionaries:\n",
    "other_headmean_ss_ytna = {}\n",
    "moc_headmean_ss_ytna = {}\n",
    "other_headvar_ss_ytna = {}\n",
    "moc_headvar_ss_ytna = {}\n",
    "design = {}\n",
    "for stakeholder in plot_stakeholders:      #loop\n",
    "    for stage in plot_stages:\n",
    "        [other_headmean_ss_ytna[stakeholder,stage], moc_headmean_ss_ytna[stakeholder,stage],\n",
    "          other_headvar_ss_ytna[stakeholder,stage], moc_headvar_ss_ytna[stakeholder,stage]] = load_info(stakeholder,stage)  #call load function for current directory\n",
    "        with open(stakeholder + '_' + stage + '_design', 'rb') as fp:    #use pickle for design because file includes multiple data types\n",
    "            design[stakeholder,stage] = pickle.load(fp)"
   ]
  },
  {
   "cell_type": "markdown",
   "metadata": {},
   "source": [
    "**PLOT**"
   ]
  },
  {
   "cell_type": "code",
   "execution_count": 5,
   "metadata": {},
   "outputs": [
    {
     "name": "stderr",
     "output_type": "stream",
     "text": [
      "C:\\Users\\Chloe\\Anaconda3\\envs\\HWR582\\lib\\site-packages\\ipykernel_launcher.py:39: RuntimeWarning: invalid value encountered in true_divide\n"
     ]
    },
    {
     "data": {
      "image/png": "[encoded data removed]",
      "text/plain": [
       "<matplotlib.figure.Figure at 0x296530846a0>"
      ]
     },
     "metadata": {},
     "output_type": "display_data"
    }
   ],
   "source": [
    "#Define lot function:\n",
    "def make_color_plot(ax,design,data_ytna,minval):                                # use this to generate contour plots with streams, wells, return locations, infiltration areas and add x axis titles\n",
    "    nrow = design[stakeholder,stage][0]           # pull model setup info from design file\n",
    "    ncol = design[stakeholder,stage][1]\n",
    "    str_rows = design[stakeholder,stage][22]\n",
    "    str_cols = design[stakeholder,stage][23]\n",
    "    well1 = design[stakeholder,stage][10]\n",
    "    well2 = design[stakeholder,stage][11]\n",
    "    return_loc = design[stakeholder,stage][13]\n",
    "    rNWc = design[stakeholder,stage][14]\n",
    "    extent = (0, ncol, 0, nrow)                   # sets plot boundaries (x0,x1,y0,y1)\n",
    "    h=data_ytna\n",
    "    h[h==0]=np.nan                                                                    # remove false zero values to improve color fill limits\n",
    "    levels = np.arange(np.nanmin(h),np.nanmax(h),(np.nanmax(h)-np.nanmin(h))/100)     # creates an array of values used to determine which contour values to draw\n",
    "    ax.invert_yaxis()                                                             # reverse y axis direction so that row 0 is at the top\n",
    "    im = ax.imshow(h,cmap=cm.viridis)                                             # plot head as a colormap\n",
    "    divider = make_axes_locatable(ax)                                             # set up colorbar location (need to import make_axes_locatable - see top cell)\n",
    "    cax = divider.append_axes(\"right\", size=\"5%\", pad=0.05)                           # place colorbar axes on right side of each subplot\n",
    "    plt.colorbar(mappable=im, cax = cax)                                              # draw colorbar\n",
    "    ax.plot(str_cols, str_rows+.5, c='DarkBlue')                                  # plot stream location (col = x, row = y)\n",
    "    ax.scatter(well1[2], well1[1], c='DarkRed')                               # plot town well location (col = x, row = y)\n",
    "    ax.scatter(return_loc,25, c='DarkRed')                                    # plots town return location (col = x, row = y)\n",
    "    townrect = patches.Rectangle((rNWc[2],rNWc[1]),2,2,linewidth=1,edgecolor='DarkRed',facecolor='none')\n",
    "    ax.add_patch(townrect)\n",
    "    ax.set_title(stakeholder + '_' + stage, size=10)\n",
    "    \n",
    "#DI calculations & plot setup:\n",
    "title='Discriminatory index: MOCs vs. other models, top layer ytna, mean abs. head diff. / sum of std. dev.'\n",
    "minval=0    # minimum allowable value ... only used for difference plot to identify measurable differences\n",
    "nstk = len(plot_stakeholders)\n",
    "nstg = len(plot_stages)\n",
    "f1,ax1 = plt.subplots(nstg,nstk,figsize=(5*nstk,5*nstg))     # create & return figure & axes at position (row, col) of size 20x12 inches\n",
    "plt.figtext(0.5, 0.9, title, ha='center', va='bottom', size=12)\n",
    "plot_DI = {}\n",
    "i = 0\n",
    "for stakeholder in plot_stakeholders:\n",
    "    j = 0\n",
    "    for stage in plot_stages:\n",
    "        plot_DI[stakeholder,stage]=np.abs(other_headmean_ss_ytna[stakeholder,stage]-moc_headmean_ss_ytna[stakeholder,stage])/(other_headvar_ss_ytna[stakeholder,stage]+moc_headvar_ss_ytna[stakeholder,stage])\n",
    "        make_color_plot(ax1[i,j],design,plot_DI[stakeholder,stage],minval)\n",
    "        j = j+1\n",
    "    i = i+1\n",
    "\n",
    "plt.show(f1)"
   ]
  },
  {
   "cell_type": "code",
   "execution_count": 6,
   "metadata": {},
   "outputs": [
    {
     "name": "stdout",
     "output_type": "stream",
     "text": [
      "Optimal data point for  time: ytna  stakeholder: ag  stage: random  is located at row: 43.0  column: 0.0  in the top layer.\n",
      "Optimal data point for  time: ytna  stakeholder: ag  stage: reseed  is located at row: 43.0  column: 0.0  in the top layer.\n",
      "Optimal data point for  time: ytna  stakeholder: env  stage: random  is located at row: 43.0  column: 0.0  in the top layer.\n",
      "Optimal data point for  time: ytna  stakeholder: env  stage: reseed  is located at row: 43.0  column: 0.0  in the top layer.\n"
     ]
    },
    {
     "name": "stderr",
     "output_type": "stream",
     "text": [
      "C:\\Users\\Chloe\\Anaconda3\\envs\\HWR582\\lib\\site-packages\\ipykernel_launcher.py:7: RuntimeWarning: invalid value encountered in true_divide\n",
      "  import sys\n"
     ]
    }
   ],
   "source": [
    "#Calculate best location to collect data:\n",
    "\n",
    "for stakeholder in available_stakeholders:\n",
    "    for stage in available_stages:\n",
    "        mean_dif=np.abs(other_headmean_ss_ytna[stakeholder,stage]-moc_headmean_ss_ytna[stakeholder,stage])\n",
    "        var_sum=other_headvar_ss_ytna[stakeholder,stage]+moc_headvar_ss_ytna[stakeholder,stage]\n",
    "        DI=mean_dif/var_sum\n",
    "        DI[mean_dif<1e-5]=0\n",
    "        DI[np.isnan(DI)]=0\n",
    "        discindex_std=DI\n",
    "        mask=np.floor(DI/np.nanmax(DI))\n",
    "        cols=np.zeros((np.shape(DI)[0],np.shape(DI)[0]))\n",
    "        rows=np.zeros((np.shape(DI)[0],np.shape(DI)[0]))\n",
    "        for i in np.arange(np.shape(DI)[0]):\n",
    "            cols[i,:]=np.arange(np.shape(DI)[0])\n",
    "            rows[:,i]=np.arange(np.shape(DI)[0])\n",
    "        maskedcols=mask*cols\n",
    "        maskedrows=mask*rows\n",
    "        maxcol=np.sum(maskedcols)\n",
    "        maxrow=np.sum(maskedrows)\n",
    "        print('Optimal data point for  time: ytna  stakeholder:',stakeholder,' stage:',stage,\n",
    "              ' is located at row:',maxrow,' column:',maxcol,' in the top layer.')"
   ]
  },
  {
   "cell_type": "code",
   "execution_count": null,
   "metadata": {},
   "outputs": [],
   "source": []
  }
 ],
 "metadata": {
  "kernelspec": {
   "display_name": "Python 3",
   "language": "python",
   "name": "python3"
  },
  "language_info": {
   "codemirror_mode": {
    "name": "ipython",
    "version": 3
   },
   "file_extension": ".py",
   "mimetype": "text/x-python",
   "name": "python",
   "nbconvert_exporter": "python",
   "pygments_lexer": "ipython3",
   "version": "3.6.2"
  }
 },
 "nbformat": 4,
 "nbformat_minor": 2
}
